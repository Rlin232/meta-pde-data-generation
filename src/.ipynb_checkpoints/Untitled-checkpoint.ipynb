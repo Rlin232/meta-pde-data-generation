{
 "cells": [
  {
   "cell_type": "code",
   "execution_count": 8,
   "id": "fce0cac7",
   "metadata": {},
   "outputs": [],
   "source": [
    "import jax\n",
    "import numpy as np"
   ]
  },
  {
   "cell_type": "code",
   "execution_count": 44,
   "id": "d2d9860f",
   "metadata": {},
   "outputs": [],
   "source": [
    "def f(x):\n",
    "    return [x[0]**3 + x[2]**3, x[1]**3 + x[2]**3]"
   ]
  },
  {
   "cell_type": "code",
   "execution_count": 46,
   "id": "e4c97709",
   "metadata": {},
   "outputs": [
    {
     "data": {
      "text/plain": [
       "[9.0, 16.0]"
      ]
     },
     "execution_count": 46,
     "metadata": {},
     "output_type": "execute_result"
    }
   ],
   "source": [
    "f([1., 2., 2.])"
   ]
  },
  {
   "cell_type": "code",
   "execution_count": 55,
   "id": "b2e64583",
   "metadata": {},
   "outputs": [],
   "source": [
    "hessian = np.array(jax.hessian(f)([4., 3., 2.]))"
   ]
  },
  {
   "cell_type": "code",
   "execution_count": 56,
   "id": "6598fb1f",
   "metadata": {},
   "outputs": [
    {
     "data": {
      "text/plain": [
       "(2, 3, 3)"
      ]
     },
     "execution_count": 56,
     "metadata": {},
     "output_type": "execute_result"
    }
   ],
   "source": [
    "hessian.shape"
   ]
  },
  {
   "cell_type": "code",
   "execution_count": 60,
   "id": "e64bbc0a",
   "metadata": {
    "scrolled": true
   },
   "outputs": [
    {
     "data": {
      "text/plain": [
       "array([24., 18.], dtype=float32)"
      ]
     },
     "execution_count": 60,
     "metadata": {},
     "output_type": "execute_result"
    }
   ],
   "source": [
    "np.trace(hessian[[0, 1], :-1, :-1])"
   ]
  },
  {
   "cell_type": "code",
   "execution_count": 58,
   "id": "0287c1fd",
   "metadata": {},
   "outputs": [
    {
     "data": {
      "text/plain": [
       "18.0"
      ]
     },
     "execution_count": 58,
     "metadata": {},
     "output_type": "execute_result"
    }
   ],
   "source": [
    "np.trace(hessian[1, :-1, :-1])"
   ]
  },
  {
   "cell_type": "code",
   "execution_count": 63,
   "id": "c3d664a2",
   "metadata": {},
   "outputs": [],
   "source": [
    "jacobian = np.array(jax.jacfwd(f)([4., 3., 2.]))"
   ]
  },
  {
   "cell_type": "code",
   "execution_count": 66,
   "id": "73c49e1b",
   "metadata": {},
   "outputs": [
    {
     "data": {
      "text/plain": [
       "array([[48.,  0.],\n",
       "       [ 0., 27.]], dtype=float32)"
      ]
     },
     "execution_count": 66,
     "metadata": {},
     "output_type": "execute_result"
    }
   ],
   "source": [
    "jacobian[:, :-1]"
   ]
  },
  {
   "cell_type": "code",
   "execution_count": 67,
   "id": "250e0f4a",
   "metadata": {},
   "outputs": [
    {
     "data": {
      "text/plain": [
       "array([12., 12.], dtype=float32)"
      ]
     },
     "execution_count": 67,
     "metadata": {},
     "output_type": "execute_result"
    }
   ],
   "source": [
    "jacobian[:, -1]"
   ]
  },
  {
   "cell_type": "code",
   "execution_count": 107,
   "id": "e166e9f2",
   "metadata": {},
   "outputs": [
    {
     "data": {
      "text/plain": [
       "DeviceArray([0.04184571], dtype=float32)"
      ]
     },
     "execution_count": 107,
     "metadata": {},
     "output_type": "execute_result"
    }
   ],
   "source": [
    "key = jax.random.PRNGKey(0)\n",
    "jax.random.uniform(key, minval=0.0, maxval=0.1, shape=(1, ))"
   ]
  },
  {
   "cell_type": "code",
   "execution_count": 78,
   "id": "ab02a858",
   "metadata": {},
   "outputs": [],
   "source": [
    "a = np.array([[1, 2, 3], [0, 0, 0]]).T"
   ]
  },
  {
   "cell_type": "code",
   "execution_count": 106,
   "id": "9d82de8c",
   "metadata": {},
   "outputs": [
    {
     "data": {
      "text/plain": [
       "DeviceArray([0.04184571], dtype=float32)"
      ]
     },
     "execution_count": 106,
     "metadata": {},
     "output_type": "execute_result"
    }
   ],
   "source": [
    "jax.random.uniform(key, minval=0.0, maxval=0.1, shape=(1, ))"
   ]
  },
  {
   "cell_type": "code",
   "execution_count": 110,
   "id": "701cf283",
   "metadata": {},
   "outputs": [
    {
     "data": {
      "text/plain": [
       "DeviceArray([0.05021484], dtype=float32)"
      ]
     },
     "execution_count": 110,
     "metadata": {},
     "output_type": "execute_result"
    }
   ],
   "source": [
    "jax.random.uniform(key, minval=0.0, maxval=0.12, shape=(1, ))"
   ]
  },
  {
   "cell_type": "code",
   "execution_count": 113,
   "id": "0c652933",
   "metadata": {},
   "outputs": [
    {
     "data": {
      "text/plain": [
       "DeviceArray([[2467461003,  428148500],\n",
       "             [3186719485, 3840466878],\n",
       "             [2562233961, 1946702221]], dtype=uint32)"
      ]
     },
     "execution_count": 113,
     "metadata": {},
     "output_type": "execute_result"
    }
   ],
   "source": [
    "jax.random.split(key, 3)"
   ]
  },
  {
   "cell_type": "code",
   "execution_count": 121,
   "id": "817706f6",
   "metadata": {},
   "outputs": [
    {
     "data": {
      "text/plain": [
       "DeviceArray([2562233961, 1946702221], dtype=uint32)"
      ]
     },
     "execution_count": 121,
     "metadata": {},
     "output_type": "execute_result"
    }
   ],
   "source": [
    "jax.random.split(key, 3)[5]"
   ]
  },
  {
   "cell_type": "code",
   "execution_count": null,
   "id": "7c1f9c34",
   "metadata": {},
   "outputs": [],
   "source": []
  }
 ],
 "metadata": {
  "kernelspec": {
   "display_name": "Python 3",
   "language": "python",
   "name": "python3"
  },
  "language_info": {
   "codemirror_mode": {
    "name": "ipython",
    "version": 3
   },
   "file_extension": ".py",
   "mimetype": "text/x-python",
   "name": "python",
   "nbconvert_exporter": "python",
   "pygments_lexer": "ipython3",
   "version": "3.9.4"
  }
 },
 "nbformat": 4,
 "nbformat_minor": 5
}
