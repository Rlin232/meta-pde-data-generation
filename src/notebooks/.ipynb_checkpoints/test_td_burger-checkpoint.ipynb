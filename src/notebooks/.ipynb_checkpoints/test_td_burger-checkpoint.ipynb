{
 "cells": [
  {
   "cell_type": "code",
   "execution_count": 1,
   "id": "0e6e36bf",
   "metadata": {},
   "outputs": [],
   "source": [
    "import sys; sys.path.insert(0, '../..')\n",
    "\n",
    "import fenics as fa\n",
    "import matplotlib.pyplot as plt\n",
    "import mshr\n",
    "import numpy as np\n",
    "import pdb\n",
    "from absl import flags\n",
    "import jax\n",
    "from collections import namedtuple\n",
    "from src.get_pde import get_pde"
   ]
  },
  {
   "cell_type": "code",
   "execution_count": null,
   "id": "d334090b",
   "metadata": {},
   "outputs": [],
   "source": [
    "from src.util import trainer_util\n",
    "from src.util import jax_tools"
   ]
  },
  {
   "cell_type": "code",
   "execution_count": null,
   "id": "9a9f3d09",
   "metadata": {},
   "outputs": [],
   "source": [
    "# run this for td_burgers  \n",
    "from src.burgers.td_burgers_common import (\n",
    "    plot_solution,\n",
    "    plot_solution_snapshot,\n",
    "    loss_fn,\n",
    "    SecondOrderTaylorLookup,\n",
    "    error_on_coords,\n",
    "    sample_params,\n",
    "    sample_points,\n",
    ")\n",
    "\n",
    "from src.burgers.td_burgers_fenics import (\n",
    "    solve_fenics,\n",
    "    is_defined,\n",
    "    GroundTruth\n",
    ")"
   ]
  },
  {
   "cell_type": "code",
   "execution_count": null,
   "id": "99795b18",
   "metadata": {
    "scrolled": true
   },
   "outputs": [],
   "source": [
    "sys.argv = ['']\n",
    "FLAGS = flags.FLAGS\n",
    "FLAGS(sys.argv)"
   ]
  },
  {
   "cell_type": "code",
   "execution_count": null,
   "id": "139adc43",
   "metadata": {},
   "outputs": [],
   "source": [
    "#flags.DEFINE_integer(\"max_holes\", 12, \"scale on random uniform bc\")\n",
    "#flags.DEFINE_float(\"max_hole_size\", 0.4, \"scale on random uniform bc\")"
   ]
  },
  {
   "cell_type": "code",
   "execution_count": null,
   "id": "d0f4f1dc",
   "metadata": {},
   "outputs": [],
   "source": [
    "FLAGS.n_eval = 1"
   ]
  },
  {
   "cell_type": "code",
   "execution_count": null,
   "id": "a88186f0",
   "metadata": {},
   "outputs": [],
   "source": [
    "FLAGS.num_tsteps = 2"
   ]
  },
  {
   "cell_type": "code",
   "execution_count": null,
   "id": "456bd573",
   "metadata": {},
   "outputs": [],
   "source": [
    "FLAGS.pde = 'td_burgers'\n",
    "#FLAGS.pde = 'linear_stokes'\n",
    "\n",
    "pde = get_pde(FLAGS.pde)"
   ]
  },
  {
   "cell_type": "code",
   "execution_count": null,
   "id": "3648e30e",
   "metadata": {
    "scrolled": true
   },
   "outputs": [],
   "source": [
    "key = jax.random.PRNGKey(0)\n",
    "key, gt_key, gt_points_key = jax.random.split(key, 3)\n",
    "gt_keys = jax.random.split(gt_key, FLAGS.n_eval)\n",
    "gt_params = jax.vmap(pde.sample_params)(gt_keys)"
   ]
  },
  {
   "cell_type": "code",
   "execution_count": null,
   "id": "3361860b",
   "metadata": {
    "scrolled": true
   },
   "outputs": [],
   "source": [
    "fenics_functions, fenics_vals, coords = trainer_util.get_ground_truth_points(\n",
    "    pde, jax_tools.tree_unstack(gt_params), gt_points_key)"
   ]
  },
  {
   "cell_type": "code",
   "execution_count": null,
   "id": "592cdd82",
   "metadata": {},
   "outputs": [],
   "source": [
    "fenics_vals.shape"
   ]
  },
  {
   "cell_type": "code",
   "execution_count": null,
   "id": "9bfe0ad8",
   "metadata": {
    "scrolled": false
   },
   "outputs": [],
   "source": [
    "coords.shape"
   ]
  },
  {
   "cell_type": "code",
   "execution_count": null,
   "id": "9aaa58ed",
   "metadata": {},
   "outputs": [],
   "source": [
    "coords[0, :, 2].min()"
   ]
  },
  {
   "cell_type": "code",
   "execution_count": null,
   "id": "46b294f4",
   "metadata": {
    "scrolled": false
   },
   "outputs": [],
   "source": [
    "source_params = gt_params[0]"
   ]
  },
  {
   "cell_type": "code",
   "execution_count": null,
   "id": "178ec38e",
   "metadata": {
    "scrolled": false
   },
   "outputs": [],
   "source": [
    "source_params[0]"
   ]
  },
  {
   "cell_type": "code",
   "execution_count": null,
   "id": "74200edc",
   "metadata": {
    "scrolled": true
   },
   "outputs": [],
   "source": [
    "def rhs_fn(field_fn, x):\n",
    "    hessian = jax.hessian(field_fn)\n",
    "    nabla_term = (1./ source_params[0]) * np.trace(hessian(x)[[0, 1], :-1, :-1])\n",
    "    grad_term = np.matmul(\n",
    "        jac_fn(x)[:, :-1].reshape(2, 2), field_fn(x).reshape(2, 1)\n",
    "    ).reshape(2)\n",
    "    return nabla_term - grad_term"
   ]
  },
  {
   "cell_type": "code",
   "execution_count": null,
   "id": "c7e57cbd",
   "metadata": {},
   "outputs": [],
   "source": [
    "fenics_solution = fenics_functions[0]"
   ]
  },
  {
   "cell_type": "code",
   "execution_count": null,
   "id": "61038135",
   "metadata": {},
   "outputs": [],
   "source": [
    "fenics_solution([0.5, 0.5, 0.16666667])"
   ]
  },
  {
   "cell_type": "code",
   "execution_count": null,
   "id": "4ce796a2",
   "metadata": {},
   "outputs": [],
   "source": [
    "fenics_solution([0.5, 0.5, 0.33333334])"
   ]
  },
  {
   "cell_type": "code",
   "execution_count": null,
   "id": "1a505147",
   "metadata": {},
   "outputs": [],
   "source": [
    "coords[0, :, :-1].shape"
   ]
  },
  {
   "cell_type": "code",
   "execution_count": null,
   "id": "a0721057",
   "metadata": {
    "scrolled": false
   },
   "outputs": [],
   "source": [
    "taylor_default = SecondOrderTaylorLookup(fenics_solution[1], coords[0, :, :-1].reshape(-1, 2), d = 2)"
   ]
  },
  {
   "cell_type": "code",
   "execution_count": null,
   "id": "07d22ee8",
   "metadata": {},
   "outputs": [],
   "source": [
    "taylor_default.u0s.shape"
   ]
  },
  {
   "cell_type": "code",
   "execution_count": null,
   "id": "60960acf",
   "metadata": {},
   "outputs": [],
   "source": [
    "fenics_solution[1](x)"
   ]
  },
  {
   "cell_type": "code",
   "execution_count": null,
   "id": "40f9fb10",
   "metadata": {
    "scrolled": false
   },
   "outputs": [],
   "source": [
    "x = np.array([0.5, 0.5])\n",
    "taylor_default(x)"
   ]
  },
  {
   "cell_type": "code",
   "execution_count": null,
   "id": "5dc10e9d",
   "metadata": {
    "scrolled": true
   },
   "outputs": [],
   "source": [
    "def rhs_fn(field_fn, x):\n",
    "    hessian = jax.hessian(field_fn)\n",
    "    nabla_term = (1./ source_params[0]) * np.trace(hessian(x))\n",
    "    grad_term = np.matmul(\n",
    "        jac_fn(x).reshape(2, 2), field_fn(x).reshape(2, 1)\n",
    "    ).reshape(2)\n",
    "    return nabla_term - grad_term\n",
    "\n",
    "\n",
    "rhs_fn(fenics_solution[1], x)"
   ]
  },
  {
   "cell_type": "code",
   "execution_count": null,
   "id": "da64c52f",
   "metadata": {
    "scrolled": true
   },
   "outputs": [],
   "source": [
    "jax.hessian(fenics_solution[1])"
   ]
  },
  {
   "cell_type": "code",
   "execution_count": null,
   "id": "af9042dd",
   "metadata": {},
   "outputs": [],
   "source": [
    "fenics_solution[1](x)"
   ]
  },
  {
   "cell_type": "code",
   "execution_count": null,
   "id": "2861f19a",
   "metadata": {},
   "outputs": [],
   "source": [
    "fenics_solution[1].set_allow_extrapolation(True)\n",
    "jac_fn = jax.jacfwd(fenics_solution[1])\n",
    "jac_fn(0.5, 0.5)"
   ]
  },
  {
   "cell_type": "code",
   "execution_count": null,
   "id": "6d1273ea",
   "metadata": {
    "scrolled": false
   },
   "outputs": [],
   "source": [
    "np.linspace(FLAGS.tmin, FLAGS.tmax, FLAGS.num_tsteps, endpoint=False)"
   ]
  },
  {
   "cell_type": "code",
   "execution_count": null,
   "id": "93fcefc9",
   "metadata": {},
   "outputs": [],
   "source": [
    "t = np.array([0., 0.5])\n",
    "t_long = np.repeat(t, 10).reshape(t_long.shape[0], -1)"
   ]
  },
  {
   "cell_type": "code",
   "execution_count": null,
   "id": "ca12e355",
   "metadata": {
    "scrolled": true
   },
   "outputs": [],
   "source": [
    "x = np.random.rand(10, 2)\n",
    "x = np.tile(x, (2, 1))\n",
    "np.concatenate([x, t_long], axis=1)"
   ]
  },
  {
   "cell_type": "code",
   "execution_count": null,
   "id": "54109a99",
   "metadata": {
    "scrolled": false
   },
   "outputs": [],
   "source": [
    "np.concatenate([x, t_long.reshape(t_long.shape[0], -1)], axis =1)"
   ]
  },
  {
   "cell_type": "code",
   "execution_count": null,
   "id": "1a01ef07",
   "metadata": {
    "scrolled": true
   },
   "outputs": [],
   "source": [
    "t_long.reshape(t_long.shape[0], -1).shape"
   ]
  },
  {
   "cell_type": "code",
   "execution_count": null,
   "id": "5fbc5093",
   "metadata": {},
   "outputs": [],
   "source": [
    "x = np.random.rand(10, 2)\n",
    "np.tile(x, (3, 1))"
   ]
  },
  {
   "cell_type": "code",
   "execution_count": null,
   "id": "9840c3c2",
   "metadata": {},
   "outputs": [],
   "source": [
    "np.tile(x, (2, 1))"
   ]
  },
  {
   "cell_type": "code",
   "execution_count": 15,
   "id": "d6c80c46",
   "metadata": {
    "scrolled": true
   },
   "outputs": [],
   "source": [
    "ground_truth = fenics_functions[0]"
   ]
  },
  {
   "cell_type": "code",
   "execution_count": 22,
   "id": "007c4c68",
   "metadata": {},
   "outputs": [
    {
     "data": {
      "text/plain": [
       "True"
      ]
     },
     "execution_count": 22,
     "metadata": {},
     "output_type": "execute_result"
    }
   ],
   "source": [
    "type(ground_truth) == GroundTruth"
   ]
  },
  {
   "cell_type": "code",
   "execution_count": null,
   "id": "4ce44f7d",
   "metadata": {
    "scrolled": true
   },
   "outputs": [],
   "source": [
    "ground_truth.timesteps_list"
   ]
  },
  {
   "cell_type": "code",
   "execution_count": null,
   "id": "a320d021",
   "metadata": {},
   "outputs": [],
   "source": [
    "def plot_solutions(u_list, params, n_plots):\n",
    "    n_plots = min(len(u_list), n_plots)\n",
    "    plot_idx = np.unique(np.linspace(0, len(u_list), n_plots, endpoint=False ,dtype=int))\n",
    "    print(plot_idx)\n",
    "    for i in plot_idx:\n",
    "        plot_solution(u_list[i], params)"
   ]
  },
  {
   "cell_type": "code",
   "execution_count": null,
   "id": "58658631",
   "metadata": {},
   "outputs": [],
   "source": [
    "plot_solutions(u_p_list, params, 4)"
   ]
  },
  {
   "cell_type": "code",
   "execution_count": null,
   "id": "acace5d6",
   "metadata": {},
   "outputs": [],
   "source": [
    "u_p_list[0].function_space().tabulate_dof_coordinates()"
   ]
  },
  {
   "cell_type": "code",
   "execution_count": null,
   "id": "8dd58abb",
   "metadata": {},
   "outputs": [],
   "source": [
    "u_p_list[1].function_space().tabulate_dof_coordinates()"
   ]
  },
  {
   "cell_type": "code",
   "execution_count": null,
   "id": "4687c4c1",
   "metadata": {},
   "outputs": [],
   "source": [
    "(u_p_list[0].function_space().tabulate_dof_coordinates() == u_p_list[0].function_space().tabulate_dof_coordinates()).all()"
   ]
  },
  {
   "cell_type": "code",
   "execution_count": null,
   "id": "0d48a83b",
   "metadata": {},
   "outputs": [],
   "source": [
    "Class td_fenics_funcitons():\n",
    "    def __init__(self, \n",
    "                 fenics_list):\n",
    "        self.fenics_list = fenics_list\n",
    "    def set_allow_extrapolation(self, boolean):\n",
    "        for f in self.fenics_list:\n",
    "            f.set_allow_extrapolation(boolean)\n",
    "    def function_space(self):\n",
    "        return fenics_list[0].function_space()\n",
    "    def __apply__(self):\n",
    "        "
   ]
  },
  {
   "cell_type": "code",
   "execution_count": null,
   "id": "49a6806b",
   "metadata": {
    "scrolled": false
   },
   "outputs": [],
   "source": [
    "for i in range(len(u_p_list)):\n",
    "    dt = FLAGS.time_duration / FLAGS.num_tsteps \n",
    "    print('time = ', dt * i)\n",
    "    plt.figure(figsize=(16,16))\n",
    "\n",
    "    plt.subplot(1,3,1)\n",
    "    clr= fa.plot(u_p_list[i])\n",
    "    #plt.colorbar(clr)\n",
    "    plt.title('Default')\n",
    "    plt.show()"
   ]
  },
  {
   "cell_type": "code",
   "execution_count": null,
   "id": "818ad478",
   "metadata": {},
   "outputs": [],
   "source": [
    "points = sample_points(jax.random.PRNGKey(FLAGS.seed + 1), 1024, params)\n",
    "points_on_inlet, points_on_outlet, points_on_walls, points_on_holes, points_in_domain = points\n",
    "\n",
    "all_points = np.concatenate(points)"
   ]
  },
  {
   "cell_type": "code",
   "execution_count": null,
   "id": "491b9fe2",
   "metadata": {
    "scrolled": true
   },
   "outputs": [],
   "source": [
    "taylor_default = SecondOrderTaylorLookup(u_p_default, all_points, d = 3)"
   ]
  },
  {
   "cell_type": "code",
   "execution_count": null,
   "id": "c2828b84",
   "metadata": {},
   "outputs": [],
   "source": [
    "default_vals = taylor_default(points_in_domain)"
   ]
  },
  {
   "cell_type": "code",
   "execution_count": null,
   "id": "b356299e",
   "metadata": {},
   "outputs": [],
   "source": [
    "default_vals"
   ]
  },
  {
   "cell_type": "code",
   "execution_count": null,
   "id": "3c6d9c50",
   "metadata": {},
   "outputs": [],
   "source": [
    "plt.figure()\n",
    "#clr = plt.scatter(all_points[:,0], all_points[:,1], c=np.log(np.abs(diff[:, 2])))\n",
    "clr = plt.scatter(points_in_domain[:,0], points_in_domain[:,1], c=default_vals[:, 2])\n",
    "plt.title('Pressure Difference: left v.s. deafult')\n",
    "plt.colorbar(clr)\n",
    "plt.show()"
   ]
  },
  {
   "cell_type": "code",
   "execution_count": null,
   "id": "36f79f0f",
   "metadata": {},
   "outputs": [],
   "source": [
    "type(u_p_default)"
   ]
  },
  {
   "cell_type": "code",
   "execution_count": null,
   "id": "dfc729d0",
   "metadata": {},
   "outputs": [],
   "source": [
    "del(u_default)"
   ]
  },
  {
   "cell_type": "code",
   "execution_count": null,
   "id": "1111b64c",
   "metadata": {},
   "outputs": [],
   "source": [
    "aa = u_default.copy(deepcopy=True)"
   ]
  },
  {
   "cell_type": "code",
   "execution_count": null,
   "id": "eadaad3f",
   "metadata": {},
   "outputs": [],
   "source": [
    "fa.plot(aa)"
   ]
  },
  {
   "cell_type": "code",
   "execution_count": null,
   "id": "8d7b1f03",
   "metadata": {},
   "outputs": [],
   "source": [
    "fa.plot(u_default)"
   ]
  },
  {
   "cell_type": "code",
   "execution_count": 34,
   "id": "fe235caa",
   "metadata": {},
   "outputs": [],
   "source": [
    "a = np.array([[1, 2, 3, 4]])"
   ]
  },
  {
   "cell_type": "code",
   "execution_count": 59,
   "id": "4f56e09f",
   "metadata": {},
   "outputs": [],
   "source": [
    "aa = np.tile(a, (3, 1)).reshape(1,3 ,4)"
   ]
  },
  {
   "cell_type": "code",
   "execution_count": 60,
   "id": "6f91c47a",
   "metadata": {},
   "outputs": [
    {
     "data": {
      "text/plain": [
       "array([[[1, 2, 3, 4],\n",
       "        [1, 2, 3, 4],\n",
       "        [1, 2, 3, 4]]])"
      ]
     },
     "execution_count": 60,
     "metadata": {},
     "output_type": "execute_result"
    }
   ],
   "source": [
    "aa"
   ]
  },
  {
   "cell_type": "code",
   "execution_count": 62,
   "id": "7ef7c828",
   "metadata": {},
   "outputs": [
    {
     "data": {
      "text/plain": [
       "4"
      ]
     },
     "execution_count": 62,
     "metadata": {},
     "output_type": "execute_result"
    }
   ],
   "source": [
    "np.unique(aa[:, :, 3])[0]"
   ]
  },
  {
   "cell_type": "code",
   "execution_count": 66,
   "id": "0832ff60",
   "metadata": {},
   "outputs": [],
   "source": [
    "idx = (np.isclose(aa[:, :, 3], 4))"
   ]
  },
  {
   "cell_type": "code",
   "execution_count": 67,
   "id": "4194cbbb",
   "metadata": {},
   "outputs": [
    {
     "ename": "IndexError",
     "evalue": "too many indices for array: array is 3-dimensional, but 4 were indexed",
     "output_type": "error",
     "traceback": [
      "\u001b[0;31m---------------------------------------------------------------------------\u001b[0m",
      "\u001b[0;31mIndexError\u001b[0m                                Traceback (most recent call last)",
      "\u001b[0;32m<ipython-input-67-8c3714f6b17a>\u001b[0m in \u001b[0;36m<module>\u001b[0;34m\u001b[0m\n\u001b[0;32m----> 1\u001b[0;31m \u001b[0maa\u001b[0m\u001b[0;34m[\u001b[0m\u001b[0;34m:\u001b[0m\u001b[0;34m,\u001b[0m \u001b[0midx\u001b[0m\u001b[0;34m,\u001b[0m \u001b[0;34m:\u001b[0m\u001b[0;34m]\u001b[0m\u001b[0;34m\u001b[0m\u001b[0;34m\u001b[0m\u001b[0m\n\u001b[0m",
      "\u001b[0;31mIndexError\u001b[0m: too many indices for array: array is 3-dimensional, but 4 were indexed"
     ]
    }
   ],
   "source": [
    "aa[:, idx, :]"
   ]
  },
  {
   "cell_type": "code",
   "execution_count": null,
   "id": "a51cf458",
   "metadata": {},
   "outputs": [],
   "source": [
    "Time steps solved by fenics [0.0, 0.2, 0.4, 0.6000000000000001, 0.8]"
   ]
  },
  {
   "cell_type": "code",
   "execution_count": 38,
   "id": "6306d259",
   "metadata": {},
   "outputs": [
    {
     "data": {
      "text/plain": [
       "0.026309056323952973"
      ]
     },
     "execution_count": 38,
     "metadata": {},
     "output_type": "execute_result"
    }
   ],
   "source": [
    "0.01728186011314392 + 0.003140493528917432 + 0.004456460475921631 + 0.0014302422059699893"
   ]
  },
  {
   "cell_type": "code",
   "execution_count": 133,
   "id": "56a49228",
   "metadata": {},
   "outputs": [],
   "source": [
    "import jax.numpy as jnp\n",
    "\n",
    "def f(x):\n",
    "    return jnp.asarray([x[0]**2 + x[1] **3, jnp.exp(x[0]) + jnp.exp(3* x[2])])\n",
    "\n",
    "jac_fn = jax.jacfwd(f)\n",
    "hessian = jax.hessian(f)"
   ]
  },
  {
   "cell_type": "code",
   "execution_count": 71,
   "id": "a32ad780",
   "metadata": {},
   "outputs": [
    {
     "name": "stdout",
     "output_type": "stream",
     "text": [
      "(2, 3, 3)\n"
     ]
    },
    {
     "data": {
      "text/plain": [
       "DeviceArray([[[2.000000e+00, 0.000000e+00, 0.000000e+00],\n",
       "              [0.000000e+00, 2.400000e+01, 0.000000e+00],\n",
       "              [0.000000e+00, 0.000000e+00, 0.000000e+00]],\n",
       "\n",
       "             [[7.389056e+00, 0.000000e+00, 0.000000e+00],\n",
       "              [0.000000e+00, 0.000000e+00, 0.000000e+00],\n",
       "              [0.000000e+00, 0.000000e+00, 7.292776e+04]]], dtype=float32)"
      ]
     },
     "execution_count": 71,
     "metadata": {},
     "output_type": "execute_result"
    }
   ],
   "source": [
    "print(hessian(inp).shape)\n",
    "hessian(inp)"
   ]
  },
  {
   "cell_type": "code",
   "execution_count": 37,
   "id": "1b82cca0",
   "metadata": {},
   "outputs": [],
   "source": [
    "# first order derivative wrt time: jac_fn(input)[: ,-1]\n",
    "# second order derivative "
   ]
  },
  {
   "cell_type": "code",
   "execution_count": 72,
   "id": "b03ed5f2",
   "metadata": {},
   "outputs": [
    {
     "name": "stdout",
     "output_type": "stream",
     "text": [
      "[[2.0000000e+00 1.2000000e+01 0.0000000e+00]\n",
      " [2.7182817e+00 0.0000000e+00 2.4309252e+04]]\n"
     ]
    }
   ],
   "source": [
    "print(jax.jacfwd(f)(jnp.array([1., 2., 3.])))"
   ]
  },
  {
   "cell_type": "code",
   "execution_count": 218,
   "id": "1ca770a7",
   "metadata": {},
   "outputs": [],
   "source": [
    "def f(x):\n",
    "    return jnp.asarray([x[0]**2 + jnp.sin(x[1] **0.4), jnp.exp(x[0]) + jnp.exp(3* x[2])])\n",
    "\n",
    "\n",
    "def taylor_val(field_fn, x):\n",
    "    x1 = x + jnp.array([0.01, 0.01, 0.01])\n",
    "    # taylor expansion val\n",
    "    deviation = x1 - x\n",
    "    def filed_fn_x(points):\n",
    "        return field_fn(points).reshape(2)[0]\n",
    "\n",
    "    # compute taylor expansion for x component\n",
    "    jacobian = jax.jacfwd(filed_fn_x)\n",
    "    hessian = jax.hessian(filed_fn_x)\n",
    "\n",
    "\n",
    "    x_new = (\n",
    "        (filed_fn_x(x1) + jnp.dot(jacobian(x).T, deviation) \\\n",
    "        + 0.5 * jnp.dot(np.transpose(deviation), jnp.dot(hessian(x), deviation))).astype(float)\n",
    "    )\n",
    "    \n",
    "    def filed_fn_y(points):\n",
    "        return field_fn(points).reshape(2)[1]\n",
    "\n",
    "    # compute taylor expansion for y component\n",
    "    jacobian = jax.jacfwd(filed_fn_y)\n",
    "    hessian = jax.hessian(filed_fn_y)\n",
    "\n",
    "\n",
    "    # taylor expansion val\n",
    "    deviation = x1 - x\n",
    "\n",
    "\n",
    "    y_new = (\n",
    "        (filed_fn_y(x1) + jnp.dot(jacobian(x).T, deviation) \\\n",
    "        + 0.5 * jnp.dot(np.transpose(deviation), jnp.dot(hessian(x), deviation))).astype(float)\n",
    "    )\n",
    "    return jnp.array([x_new, y_new])"
   ]
  },
  {
   "cell_type": "code",
   "execution_count": 219,
   "id": "b65270b9",
   "metadata": {},
   "outputs": [
    {
     "data": {
      "text/plain": [
       "DeviceArray([5.0651402e+00, 8.6041328e+03], dtype=float32)"
      ]
     },
     "execution_count": 219,
     "metadata": {},
     "output_type": "execute_result"
    }
   ],
   "source": [
    "taylor_val(f, inp)"
   ]
  },
  {
   "cell_type": "code",
   "execution_count": 220,
   "id": "b701280d",
   "metadata": {},
   "outputs": [
    {
     "data": {
      "text/plain": [
       "DeviceArray([5.0651402e+00, 8.6041328e+03], dtype=float32)"
      ]
     },
     "execution_count": 220,
     "metadata": {},
     "output_type": "execute_result"
    }
   ],
   "source": [
    "taylor_val(f, inp)"
   ]
  },
  {
   "cell_type": "code",
   "execution_count": 221,
   "id": "ad9908f1",
   "metadata": {},
   "outputs": [
    {
     "data": {
      "text/plain": [
       "DeviceArray([5.0253367e+00, 8.3573203e+03], dtype=float32)"
      ]
     },
     "execution_count": 221,
     "metadata": {},
     "output_type": "execute_result"
    }
   ],
   "source": [
    "f(inp + jnp.array([0.01, 0.01, 0.01]))"
   ]
  },
  {
   "cell_type": "code",
   "execution_count": 209,
   "id": "efd99e31",
   "metadata": {},
   "outputs": [
    {
     "data": {
      "text/plain": [
       "DeviceArray([4.985533e+00, 8.110473e+03], dtype=float32)"
      ]
     },
     "execution_count": 209,
     "metadata": {},
     "output_type": "execute_result"
    }
   ],
   "source": [
    "f(inp)"
   ]
  },
  {
   "cell_type": "code",
   "execution_count": null,
   "id": "1d20a93f",
   "metadata": {},
   "outputs": [],
   "source": []
  }
 ],
 "metadata": {
  "kernelspec": {
   "display_name": "Python 3",
   "language": "python",
   "name": "python3"
  },
  "language_info": {
   "codemirror_mode": {
    "name": "ipython",
    "version": 3
   },
   "file_extension": ".py",
   "mimetype": "text/x-python",
   "name": "python",
   "nbconvert_exporter": "python",
   "pygments_lexer": "ipython3",
   "version": "3.9.4"
  }
 },
 "nbformat": 4,
 "nbformat_minor": 5
}
