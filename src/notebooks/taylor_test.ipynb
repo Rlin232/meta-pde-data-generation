{
 "cells": [
  {
   "cell_type": "code",
   "execution_count": 3,
   "metadata": {},
   "outputs": [],
   "source": [
    "import sys; sys.path.insert(0, '../..')\n",
    "\n",
    "import fenics as fa\n",
    "import matplotlib.pyplot as plt\n",
    "import mshr\n",
    "import numpy as np\n",
    "import pdb\n",
    "import argparse\n",
    "import jax\n",
    "from collections import namedtuple\n",
    "\n",
    "from src.nonlinear_stokes.nonlinear_stokes_common import (\n",
    "    plot_solution,\n",
    "    loss_fn,\n",
    "    fenics_to_jax,\n",
    "    SecondOrderTaylorLookup,\n",
    "    error_on_coords,\n",
    "    sample_params,\n",
    "    sample_points,\n",
    ")\n",
    "\n",
    "from src.nonlinear_stokes.nonlinear_stokes_fenics import (\n",
    "    solve_fenics,\n",
    "    is_defined,\n",
    "    parser\n",
    ")"
   ]
  },
  {
   "cell_type": "code",
   "execution_count": 4,
   "metadata": {},
   "outputs": [
    {
     "name": "stderr",
     "output_type": "stream",
     "text": [
      "/usr/local/anaconda3/envs/dvvf/lib/python3.6/site-packages/jax/lib/xla_bridge.py:130: UserWarning: No GPU/TPU found, falling back to CPU.\n",
      "  warnings.warn('No GPU/TPU found, falling back to CPU.')\n"
     ]
    },
    {
     "name": "stdout",
     "output_type": "stream",
     "text": [
      "params:  (DeviceArray([0.4130522 , 0.25975317], dtype=float32), DeviceArray([3000.803], dtype=float32), DeviceArray([[ 0.04156993, -0.0613506 ,  0.47837767,  0.20494777,\n",
      "               0.44709057],\n",
      "             [-0.03926784, -0.11530625,  0.10562178,  0.4114218 ,\n",
      "               0.35706055],\n",
      "             [-0.04186818,  0.01709074,  0.18381561, -0.53561956,\n",
      "               0.29799348]], dtype=float32), DeviceArray(1, dtype=int32))\n"
     ]
    }
   ],
   "source": [
    "args = parser.parse_args(\"\")\n",
    "args = namedtuple(\"ArgsTuple\", vars(args))(**vars(args))\n",
    "\n",
    "params = sample_params(jax.random.PRNGKey(args.seed), args)\n",
    "source_params, bc_params, per_hole_params, num_holes = params\n",
    "print(\"params: \", params)"
   ]
  },
  {
   "cell_type": "code",
   "execution_count": 5,
   "metadata": {},
   "outputs": [],
   "source": [
    "u_p = solve_fenics(params)"
   ]
  },
  {
   "cell_type": "code",
   "execution_count": 6,
   "metadata": {},
   "outputs": [],
   "source": [
    "points = sample_points(jax.random.PRNGKey(args.seed + 1), 1024, params)\n",
    "points_on_inlet, points_on_walls, points_on_holes, points_in_domain = points\n",
    "\n",
    "all_points = np.concatenate(points)"
   ]
  },
  {
   "cell_type": "code",
   "execution_count": 7,
   "metadata": {},
   "outputs": [],
   "source": [
    "x0 = points_in_domain[100]\n"
   ]
  },
  {
   "cell_type": "code",
   "execution_count": 8,
   "metadata": {},
   "outputs": [],
   "source": [
    "taylor = SecondOrderTaylorLookup(u_p, [x0])"
   ]
  },
  {
   "cell_type": "code",
   "execution_count": 24,
   "metadata": {},
   "outputs": [
    {
     "name": "stdout",
     "output_type": "stream",
     "text": [
      "delta size: 1e-08, err 2.165e-04\n",
      "delta size: 1e-07, err 3.706e-04\n",
      "delta size: 1e-06, err 1.401e-04\n",
      "delta size: 1e-05, err 5.061e-04\n",
      "delta size: 0.0001, err 3.757e-03\n",
      "delta size: 0.001, err 2.718e-02\n",
      "delta size: 0.01, err 7.837e-01\n",
      "delta size: 0.1, err 1.168e+02\n"
     ]
    }
   ],
   "source": [
    "direction = np.array([-1., 1.])\n",
    "for i in range(8):\n",
    "    x = x0 + direction * 1e-8 * 10**i\n",
    "    y = np.array(u_p(x))\n",
    "    yhat = np.array(taylor(x)).reshape(y.shape)\n",
    "    err = np.linalg.norm(y - yhat)\n",
    "    print(\"delta size: {}, err {:.3e}\".format(1e-8 * 10**i, err))"
   ]
  },
  {
   "cell_type": "code",
   "execution_count": null,
   "metadata": {},
   "outputs": [],
   "source": [
    "y = np.array(u_p(x0))\n",
    "yhat = np.array(taylor(x0)).reshape(y.shape)\n",
    "np.linalg.norm(y - yhat)"
   ]
  },
  {
   "cell_type": "code",
   "execution_count": null,
   "metadata": {},
   "outputs": [],
   "source": []
  }
 ],
 "metadata": {
  "kernelspec": {
   "display_name": "Python 3",
   "language": "python",
   "name": "python3"
  },
  "language_info": {
   "codemirror_mode": {
    "name": "ipython",
    "version": 3
   },
   "file_extension": ".py",
   "mimetype": "text/x-python",
   "name": "python",
   "nbconvert_exporter": "python",
   "pygments_lexer": "ipython3",
   "version": "3.6.10"
  }
 },
 "nbformat": 4,
 "nbformat_minor": 4
}
