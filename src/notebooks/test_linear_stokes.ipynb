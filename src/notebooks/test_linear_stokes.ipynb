{
 "cells": [
  {
   "cell_type": "code",
   "execution_count": 1,
   "metadata": {},
   "outputs": [],
   "source": [
    "import sys; sys.path.insert(0, '../..')\n",
    "\n",
    "import fenics as fa\n",
    "import matplotlib.pyplot as plt\n",
    "import mshr\n",
    "import numpy as np\n",
    "import pdb\n",
    "import argparse\n",
    "import jax\n",
    "from collections import namedtuple\n",
    "\n",
    "from src.linear_stokes.linear_stokes_common import (\n",
    "    plot_solution,\n",
    "    loss_fn,\n",
    "    fenics_to_jax,\n",
    "    SecondOrderTaylorLookup,\n",
    "    error_on_coords,\n",
    "    sample_params,\n",
    "    sample_points,\n",
    "    loss_divu_fn,\n",
    "    loss_stress_fn,\n",
    "    get_p,\n",
    "    get_u,\n",
    "    deviatoric_stress\n",
    ")\n",
    "\n",
    "from src.linear_stokes.linear_stokes_fenics import (\n",
    "    solve_fenics,\n",
    "    is_defined,\n",
    "    parser\n",
    ")"
   ]
  },
  {
   "cell_type": "code",
   "execution_count": 2,
   "metadata": {},
   "outputs": [
    {
     "name": "stderr",
     "output_type": "stream",
     "text": [
      "/usr/local/anaconda3/envs/dvvf/lib/python3.6/site-packages/jax/lib/xla_bridge.py:130: UserWarning: No GPU/TPU found, falling back to CPU.\n",
      "  warnings.warn('No GPU/TPU found, falling back to CPU.')\n"
     ]
    },
    {
     "name": "stdout",
     "output_type": "stream",
     "text": [
      "params:  (DeviceArray([0.4130522 , 0.25975317], dtype=float32), DeviceArray([3000.803], dtype=float32), DeviceArray([[ 0.04156993, -0.0613506 ,  0.47837767,  0.20494777,\n",
      "               0.44709057],\n",
      "             [-0.03926784, -0.11530625,  0.10562178,  0.4114218 ,\n",
      "               0.35706055],\n",
      "             [-0.04186818,  0.01709074,  0.18381561, -0.53561956,\n",
      "               0.29799348]], dtype=float32), DeviceArray(1, dtype=int32))\n"
     ]
    }
   ],
   "source": [
    "args = parser.parse_args(\"\")\n",
    "args = namedtuple(\"ArgsTuple\", vars(args))(**vars(args))\n",
    "\n",
    "params = sample_params(jax.random.PRNGKey(args.seed), args)\n",
    "source_params, bc_params, per_hole_params, num_holes = params\n",
    "print(\"params: \", params)"
   ]
  },
  {
   "cell_type": "code",
   "execution_count": null,
   "metadata": {},
   "outputs": [],
   "source": [
    "u_p = solve_fenics(params)"
   ]
  },
  {
   "cell_type": "code",
   "execution_count": null,
   "metadata": {
    "scrolled": false
   },
   "outputs": [],
   "source": [
    "points = sample_points(jax.random.PRNGKey(args.seed + 1), 1024, params)\n",
    "points_on_inlet, points_on_walls, points_on_holes, points_in_domain = points\n",
    "\n",
    "all_points = np.concatenate(points)"
   ]
  },
  {
   "cell_type": "code",
   "execution_count": null,
   "metadata": {
    "scrolled": true
   },
   "outputs": [],
   "source": [
    "u, p = u_p.split()\n",
    "fa.plot(u)"
   ]
  },
  {
   "cell_type": "code",
   "execution_count": null,
   "metadata": {},
   "outputs": [],
   "source": [
    "x0 = points_in_domain[120]"
   ]
  },
  {
   "cell_type": "code",
   "execution_count": null,
   "metadata": {
    "scrolled": true
   },
   "outputs": [],
   "source": [
    "taylor = SecondOrderTaylorLookup(u_p, all_points, d = 3)"
   ]
  },
  {
   "cell_type": "markdown",
   "metadata": {},
   "source": [
    "# Loss Function "
   ]
  },
  {
   "cell_type": "code",
   "execution_count": null,
   "metadata": {},
   "outputs": [],
   "source": []
  },
  {
   "cell_type": "code",
   "execution_count": null,
   "metadata": {
    "scrolled": true
   },
   "outputs": [],
   "source": [
    "jax_stress_loss = loss_stress_fn(taylor, points_in_domain, params)\n",
    "jax_divu_loss = loss_divu_fn(taylor, points_in_domain, params)\n",
    "\n",
    "print(np.mean(jax_stress_loss, axis=0))\n",
    "print(np.mean(jax_divu_loss, axis=0))\n",
    "\n",
    "plt.figure()\n",
    "clrs = plt.scatter(points_in_domain[:,0], points_in_domain[:,1], c = np.array(jax_stress_loss))\n",
    "plt.colorbar(clrs)\n",
    "plt.show()\n",
    "\n",
    "plt.figure()\n",
    "clrs = plt.scatter(points_in_domain[:,0], points_in_domain[:,1], c = np.array(jax_divu_loss))\n",
    "plt.colorbar(clrs)\n",
    "plt.show()"
   ]
  },
  {
   "cell_type": "code",
   "execution_count": null,
   "metadata": {},
   "outputs": [],
   "source": [
    "plt.figure()\n",
    "plt.hist(np.log(jax_domain_loss))\n",
    "plt.show()"
   ]
  },
  {
   "cell_type": "code",
   "execution_count": null,
   "metadata": {},
   "outputs": [],
   "source": []
  }
 ],
 "metadata": {
  "kernelspec": {
   "display_name": "Python 3",
   "language": "python",
   "name": "python3"
  },
  "language_info": {
   "codemirror_mode": {
    "name": "ipython",
    "version": 3
   },
   "file_extension": ".py",
   "mimetype": "text/x-python",
   "name": "python",
   "nbconvert_exporter": "python",
   "pygments_lexer": "ipython3",
   "version": "3.6.10"
  }
 },
 "nbformat": 4,
 "nbformat_minor": 4
}
